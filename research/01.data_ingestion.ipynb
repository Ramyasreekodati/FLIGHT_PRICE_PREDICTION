{
 "cells": [
  {
   "cell_type": "code",
   "execution_count": 1,
   "metadata": {},
   "outputs": [],
   "source": [
    "import os"
   ]
  },
  {
   "cell_type": "code",
   "execution_count": 2,
   "metadata": {},
   "outputs": [
    {
     "name": "stdout",
     "output_type": "stream",
     "text": [
      "../\n"
     ]
    }
   ],
   "source": [
    "print(\"../\")"
   ]
  },
  {
   "cell_type": "code",
   "execution_count": 3,
   "metadata": {},
   "outputs": [
    {
     "data": {
      "text/plain": [
       "'f:\\\\end_to_end_flight_price_prediction\\\\FLIGHT_PRICE_PREDICTION\\\\research'"
      ]
     },
     "execution_count": 3,
     "metadata": {},
     "output_type": "execute_result"
    }
   ],
   "source": [
    "%pwd"
   ]
  },
  {
   "cell_type": "code",
   "execution_count": 4,
   "metadata": {},
   "outputs": [],
   "source": [
    "from dataclasses import dataclass  # the dataclass decorator for simplifying class creation\n",
    "from pathlib import Path  # Path for handling file system paths \n",
    "\n",
    "@dataclass(frozen=True)  #  simplifies the class structure; frozen makes it immutable\n",
    "class DataIngestionConfig:\n",
    "    root_dir: Path  # Root directory for managing all data ingestion-related files and outputs\n",
    "    source_URL: str  # URL of the data source to be downloaded\n",
    "    local_data_file: Path  # Path where the downloaded data file will be stored locally\n",
    "    unzip_dir: Path  # Directory where the data will be extracted after downloading\n"
   ]
  },
  {
   "cell_type": "code",
   "execution_count": 1,
   "metadata": {},
   "outputs": [],
   "source": [
    "from Flight_Price.constants import *\n",
    "from Flight_Price.utils.common import read_yaml,create_directories"
   ]
  },
  {
   "cell_type": "code",
   "execution_count": null,
   "metadata": {},
   "outputs": [
    {
     "ename": "NameError",
     "evalue": "name 'CONFIG_FILE_PATH' is not defined",
     "output_type": "error",
     "traceback": [
      "\u001b[1;31m---------------------------------------------------------------------------\u001b[0m",
      "\u001b[1;31mNameError\u001b[0m                                 Traceback (most recent call last)",
      "Cell \u001b[1;32mIn[2], line 4\u001b[0m\n\u001b[0;32m      1\u001b[0m \u001b[38;5;28;01mfrom\u001b[39;00m \u001b[38;5;21;01mFlight_Price\u001b[39;00m\u001b[38;5;21;01m.\u001b[39;00m\u001b[38;5;21;01mconstants\u001b[39;00m \u001b[38;5;28;01mimport\u001b[39;00m \u001b[38;5;241m*\u001b[39m\n\u001b[0;32m      2\u001b[0m \u001b[38;5;28;01mfrom\u001b[39;00m \u001b[38;5;21;01mFlight_Price\u001b[39;00m\u001b[38;5;21;01m.\u001b[39;00m\u001b[38;5;21;01mutils\u001b[39;00m\u001b[38;5;21;01m.\u001b[39;00m\u001b[38;5;21;01mcommon\u001b[39;00m \u001b[38;5;28;01mimport\u001b[39;00m read_yaml,create_directories\n\u001b[1;32m----> 4\u001b[0m \u001b[38;5;28;01mclass\u001b[39;00m \u001b[38;5;21;01mConfigurationManager\u001b[39;00m:\n\u001b[0;32m      5\u001b[0m     \u001b[38;5;28;01mdef\u001b[39;00m \u001b[38;5;21m__init__\u001b[39m(\n\u001b[0;32m      6\u001b[0m         \u001b[38;5;28mself\u001b[39m,\n\u001b[0;32m      7\u001b[0m         config_filepath \u001b[38;5;241m=\u001b[39m CONFIG_FILE_PATH,  \u001b[38;5;66;03m# Path to the main config file\u001b[39;00m\n\u001b[0;32m      8\u001b[0m         params_filepath \u001b[38;5;241m=\u001b[39m PARAMS_FILE_PATH,  \u001b[38;5;66;03m# Path to the parameters file\u001b[39;00m\n\u001b[0;32m      9\u001b[0m         schema_filepath \u001b[38;5;241m=\u001b[39m SCHEMA_FILE_PATH  \u001b[38;5;66;03m# Path to the schema file\u001b[39;00m\n\u001b[0;32m     10\u001b[0m     ):\n\u001b[0;32m     11\u001b[0m         \u001b[38;5;28mself\u001b[39m\u001b[38;5;241m.\u001b[39mconfig \u001b[38;5;241m=\u001b[39m read_yaml(config_filepath)  \u001b[38;5;66;03m# Load configuration settings\u001b[39;00m\n",
      "Cell \u001b[1;32mIn[2], line 7\u001b[0m, in \u001b[0;36mConfigurationManager\u001b[1;34m()\u001b[0m\n\u001b[0;32m      4\u001b[0m \u001b[38;5;28;01mclass\u001b[39;00m \u001b[38;5;21;01mConfigurationManager\u001b[39;00m:\n\u001b[0;32m      5\u001b[0m     \u001b[38;5;28;01mdef\u001b[39;00m \u001b[38;5;21m__init__\u001b[39m(\n\u001b[0;32m      6\u001b[0m         \u001b[38;5;28mself\u001b[39m,\n\u001b[1;32m----> 7\u001b[0m         config_filepath \u001b[38;5;241m=\u001b[39m \u001b[43mCONFIG_FILE_PATH\u001b[49m,  \u001b[38;5;66;03m# Path to the main config file\u001b[39;00m\n\u001b[0;32m      8\u001b[0m         params_filepath \u001b[38;5;241m=\u001b[39m PARAMS_FILE_PATH,  \u001b[38;5;66;03m# Path to the parameters file\u001b[39;00m\n\u001b[0;32m      9\u001b[0m         schema_filepath \u001b[38;5;241m=\u001b[39m SCHEMA_FILE_PATH  \u001b[38;5;66;03m# Path to the schema file\u001b[39;00m\n\u001b[0;32m     10\u001b[0m     ):\n\u001b[0;32m     11\u001b[0m         \u001b[38;5;28mself\u001b[39m\u001b[38;5;241m.\u001b[39mconfig \u001b[38;5;241m=\u001b[39m read_yaml(config_filepath)  \u001b[38;5;66;03m# Load configuration settings\u001b[39;00m\n\u001b[0;32m     12\u001b[0m         \u001b[38;5;28mself\u001b[39m\u001b[38;5;241m.\u001b[39mparams \u001b[38;5;241m=\u001b[39m read_yaml(params_filepath)  \u001b[38;5;66;03m# Load parameter settings\u001b[39;00m\n",
      "\u001b[1;31mNameError\u001b[0m: name 'CONFIG_FILE_PATH' is not defined"
     ]
    }
   ],
   "source": [
    "from Flight_Price.constants import *\n",
    "from Flight_Price.utils.common import read_yaml,create_directories\n",
    "\n",
    "class ConfigurationManager:\n",
    "    def __init__(\n",
    "        self,\n",
    "        config_filepath = CONFIG_FILE_PATH,  # Path to the main config file\n",
    "        params_filepath = PARAMS_FILE_PATH,  # Path to the parameters file\n",
    "        schema_filepath = SCHEMA_FILE_PATH  # Path to the schema file\n",
    "    ):\n",
    "        self.config = read_yaml(config_filepath)  # Load configuration settings\n",
    "        self.params = read_yaml(params_filepath)  # Load parameter settings\n",
    "        self.schema = read_yaml(schema_filepath)  # Load schema details\n",
    "\n",
    "        create_directories([self.config.artifacts_root])  # Ensure artifact root directory exists\n",
    "\n",
    "        # Artifacts setup starts here for data ingestion\n",
    "\n",
    "    def get_data_ingestion_config(self) -> DataIngestionConfig:  # Returns data ingestion configuration\n",
    "        config = self.config.data_ingestion  # Access data ingestion settings\n",
    "\n",
    "        create_directories([config.root_dir])  # Ensure the root directory for data ingestion exists\n",
    "\n",
    "        # Populate and return the DataIngestionConfig object with relevant paths and URLs\n",
    "        data_ingestion_config = DataIngestionConfig(\n",
    "            root_dir=config.root_dir,\n",
    "            source_URL=config.source_URL,\n",
    "            local_data_file=config.local_data_file,\n",
    "            unzip_dir=config.unzip_dir\n",
    "        )\n",
    "\n",
    "        return data_ingestion_config"
   ]
  },
  {
   "cell_type": "code",
   "execution_count": null,
   "metadata": {},
   "outputs": [],
   "source": []
  }
 ],
 "metadata": {
  "kernelspec": {
   "display_name": "mlflight",
   "language": "python",
   "name": "python3"
  },
  "language_info": {
   "codemirror_mode": {
    "name": "ipython",
    "version": 3
   },
   "file_extension": ".py",
   "mimetype": "text/x-python",
   "name": "python",
   "nbconvert_exporter": "python",
   "pygments_lexer": "ipython3",
   "version": "3.8.20"
  }
 },
 "nbformat": 4,
 "nbformat_minor": 2
}
