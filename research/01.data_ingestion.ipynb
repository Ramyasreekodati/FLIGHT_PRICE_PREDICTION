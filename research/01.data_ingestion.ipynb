{
 "cells": [
  {
   "cell_type": "code",
   "execution_count": 1,
   "metadata": {},
   "outputs": [],
   "source": [
    "import os"
   ]
  },
  {
   "cell_type": "code",
   "execution_count": 2,
   "metadata": {},
   "outputs": [],
   "source": [
    "os.chdir(\"../\")"
   ]
  },
  {
   "cell_type": "code",
   "execution_count": 3,
   "metadata": {},
   "outputs": [
    {
     "data": {
      "text/plain": [
       "'f:\\\\end_to_end_flight_price_prediction\\\\FLIGHT_PRICE_PREDICTION'"
      ]
     },
     "execution_count": 3,
     "metadata": {},
     "output_type": "execute_result"
    }
   ],
   "source": [
    "%pwd"
   ]
  },
  {
   "cell_type": "code",
   "execution_count": 4,
   "metadata": {},
   "outputs": [],
   "source": [
    "from dataclasses import dataclass  # the dataclass decorator for simplifying class creation\n",
    "from pathlib import Path  # Path for handling file system paths \n",
    "\n",
    "@dataclass(frozen=True)  #  simplifies the class structure; frozen makes it immutable\n",
    "class DataIngestionConfig:\n",
    "    root_dir: Path  # Root directory for managing all data ingestion-related files and outputs\n",
    "    source_URL: str  # URL of the data source to be downloaded\n",
    "    local_data_file: Path  # Path where the downloaded data file will be stored locally\n",
    "    unzip_dir: Path  # Directory where the data will be extracted after downloading\n"
   ]
  },
  {
   "cell_type": "code",
   "execution_count": 5,
   "metadata": {},
   "outputs": [],
   "source": [
    "from Flight_Price.constants import *"
   ]
  },
  {
   "cell_type": "code",
   "execution_count": 6,
   "metadata": {},
   "outputs": [],
   "source": [
    "from Flight_Price.utils.common import read_yaml,create_directories"
   ]
  },
  {
   "cell_type": "code",
   "execution_count": 7,
   "metadata": {},
   "outputs": [],
   "source": [
    "from Flight_Price.constants.__int__ import CONFIG_FILE_PATH, PARAMS_FILE_PATH, SCHEMA_FILE_PATH\n",
    "\n",
    "\n",
    "class ConfigurationManager:\n",
    "    def __init__(\n",
    "        self,\n",
    "        config_filepath = CONFIG_FILE_PATH,  # Path to the main config file\n",
    "        params_filepath = PARAMS_FILE_PATH,  # Path to the parameters file\n",
    "        schema_filepath = SCHEMA_FILE_PATH  # Path to the schema file\n",
    "    ):\n",
    "        self.config = read_yaml(config_filepath)  # Load configuration settings\n",
    "        self.params = read_yaml(params_filepath)  # Load parameter settings\n",
    "        self.schema = read_yaml(schema_filepath)  # Load schema details\n",
    "\n",
    "        create_directories([self.config.artifacts_root]) \n",
    "    def get_data_ingestion_config(self) -> DataIngestionConfig:  # Returns data ingestion configuration\n",
    "        config = self.config.data_ingestion  # Access data ingestion settings\n",
    "\n",
    "        create_directories([config.root_dir])  # Ensure the root directory for data ingestion exists\n",
    "\n",
    "        # Populate and return the DataIngestionConfig object with relevant paths and URLs\n",
    "        data_ingestion_config = DataIngestionConfig(\n",
    "            root_dir=config.root_dir,\n",
    "            source_URL=config.source_URL,\n",
    "            local_data_file=config.local_data_file,\n",
    "            unzip_dir=config.unzip_dir\n",
    "        )\n",
    "\n",
    "        return data_ingestion_config    "
   ]
  },
  {
   "cell_type": "code",
   "execution_count": 8,
   "metadata": {},
   "outputs": [],
   "source": [
    "import os\n",
    "import urllib.request as request\n",
    "import zipfile\n",
    "from Flight_Price.logging import logger\n",
    "from Flight_Price.utils.common import get_size"
   ]
  },
  {
   "cell_type": "code",
   "execution_count": 9,
   "metadata": {},
   "outputs": [],
   "source": [
    "class DataIngestion:\n",
    "    def __init__(self, config: DataIngestionConfig):\n",
    "        self.config = config  # Store the DataIngestionConfig object for file paths and URLs\n",
    "\n",
    "    def download_file(self):\n",
    "        \"\"\"\n",
    "        Downloads the data file from the source URL if it does not already exist locally.\n",
    "        Logs file information upon download or skips if the file is already present.\n",
    "        \"\"\"\n",
    "        if not os.path.exists(self.config.local_data_file):  # Check if file already exists\n",
    "            filename, headers = request.urlretrieve(\n",
    "                url=self.config.source_URL,  # URL to download the file from\n",
    "                filename=self.config.local_data_file  # Local path to save the file\n",
    "            )\n",
    "            logger.info(f\"{filename} downloaded with the following info: \\n{headers}\")  # Log successful download\n",
    "        else:\n",
    "            # Log that the file already exists and display its size\n",
    "            logger.info(f\"File already exists of size: {get_size(Path(self.config.local_data_file))}\")\n",
    "\n",
    "    def extract_zip_file(self):\n",
    "        \"\"\"\n",
    "        Extracts the downloaded zip file into the specified directory.\n",
    "        Creates the extraction directory if it does not exist.\n",
    "        \"\"\"\n",
    "        unzip_path = self.config.unzip_dir  # Directory where the files will be extracted\n",
    "        os.makedirs(unzip_path, exist_ok=True)  # Ensure the extraction directory exists\n",
    "        with zipfile.ZipFile(self.config.local_data_file, 'r') as zip_ref:\n",
    "            zip_ref.extractall(unzip_path)"
   ]
  },
  {
   "cell_type": "code",
   "execution_count": 10,
   "metadata": {},
   "outputs": [
    {
     "name": "stdout",
     "output_type": "stream",
     "text": [
      "[2024-12-01 22:26:52,142: INFO: common: yaml file: config\\config.yaml loaded successfully]\n",
      "[2024-12-01 22:26:52,148: INFO: common: yaml file: Params.yaml loaded successfully]\n",
      "[2024-12-01 22:26:52,155: INFO: common: yaml file: Schema.yaml loaded successfully]\n",
      "[2024-12-01 22:26:52,157: INFO: common: created directory at: artifacts]\n",
      "[2024-12-01 22:26:52,158: INFO: common: created directory at: artifacts/data_ingestion]\n",
      "[2024-12-01 22:26:52,162: INFO: 2017386962: File already exists of size: ~ 618 KB]\n"
     ]
    }
   ],
   "source": [
    "try:\n",
    "    # Initialize ConfigurationManager to read and set up configuration files\n",
    "    config = ConfigurationManager()\n",
    "\n",
    "    # Get the data ingestion configuration settings\n",
    "    data_ingestion_config = config.get_data_ingestion_config()\n",
    "\n",
    "    # Initialize DataIngestion with the retrieved configuration\n",
    "    data_ingestion = DataIngestion(config=data_ingestion_config)\n",
    "\n",
    "    # Download the data file from the source URL\n",
    "    data_ingestion.download_file()\n",
    "\n",
    "    # Extract the downloaded zip file to the specified directory\n",
    "    data_ingestion.extract_zip_file()\n",
    "\n",
    "except Exception as e:\n",
    "    # Raise any exception encountered for debugging or logging purposes\n",
    "    raise e\n"
   ]
  },
  {
   "cell_type": "code",
   "execution_count": null,
   "metadata": {},
   "outputs": [],
   "source": []
  }
 ],
 "metadata": {
  "kernelspec": {
   "display_name": "mlflight",
   "language": "python",
   "name": "python3"
  },
  "language_info": {
   "codemirror_mode": {
    "name": "ipython",
    "version": 3
   },
   "file_extension": ".py",
   "mimetype": "text/x-python",
   "name": "python",
   "nbconvert_exporter": "python",
   "pygments_lexer": "ipython3",
   "version": "3.8.20"
  }
 },
 "nbformat": 4,
 "nbformat_minor": 2
}
