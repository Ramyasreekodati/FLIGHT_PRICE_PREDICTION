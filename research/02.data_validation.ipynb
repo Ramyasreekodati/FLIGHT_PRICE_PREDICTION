{
 "cells": [
  {
   "cell_type": "code",
   "execution_count": 1,
   "metadata": {},
   "outputs": [],
   "source": [
    "import os"
   ]
  },
  {
   "cell_type": "code",
   "execution_count": 2,
   "metadata": {},
   "outputs": [],
   "source": [
    "os.chdir(\"../\")"
   ]
  },
  {
   "cell_type": "code",
   "execution_count": 3,
   "metadata": {},
   "outputs": [
    {
     "data": {
      "text/plain": [
       "'f:\\\\end_to_end_flight_price_prediction\\\\FLIGHT_PRICE_PREDICTION'"
      ]
     },
     "execution_count": 3,
     "metadata": {},
     "output_type": "execute_result"
    }
   ],
   "source": [
    "%pwd"
   ]
  },
  {
   "cell_type": "code",
   "execution_count": 4,
   "metadata": {},
   "outputs": [],
   "source": [
    "from dataclasses import dataclass\n",
    "from pathlib import Path\n",
    "\n",
    "\n",
    "@dataclass(frozen=True)\n",
    "class DataValidationConfig:\n",
    "    root_dir: Path\n",
    "    STATUS_FILE: str\n",
    "    unzip_data_dir: Path\n",
    "    all_schema: dict"
   ]
  },
  {
   "cell_type": "code",
   "execution_count": 5,
   "metadata": {},
   "outputs": [],
   "source": [
    "from Flight_Price.constants.__init__ import *\n",
    "from Flight_Price.utils.common import read_yaml, create_directories"
   ]
  },
  {
   "cell_type": "code",
   "execution_count": 6,
   "metadata": {},
   "outputs": [],
   "source": [
    "class ConfigurationManager:\n",
    "    def __init__(\n",
    "        self,\n",
    "        config_filepath = CONFIG_FILE_PATH,\n",
    "        params_filepath = PARAMS_FILE_PATH,\n",
    "        schema_filepath = SCHEMA_FILE_PATH):\n",
    "\n",
    "        self.config = read_yaml(config_filepath)\n",
    "        self.params = read_yaml(params_filepath)\n",
    "        self.schema = read_yaml(schema_filepath)\n",
    "\n",
    "        create_directories([self.config.artifacts_root])\n",
    "\n",
    "\n",
    "    \n",
    "    def get_data_validation_config(self) -> DataValidationConfig:\n",
    "        config = self.config.data_validation\n",
    "        schema = self.schema.COLUMNS\n",
    "\n",
    "        create_directories([config.root_dir])\n",
    "\n",
    "        data_validation_config = DataValidationConfig(\n",
    "            root_dir=config.root_dir,\n",
    "            STATUS_FILE=config.STATUS_FILE,\n",
    "            unzip_data_dir = config.unzip_data_dir,\n",
    "            all_schema=schema,\n",
    "        )\n",
    "\n",
    "        return data_validation_config"
   ]
  },
  {
   "cell_type": "code",
   "execution_count": null,
   "metadata": {},
   "outputs": [],
   "source": [
    "import os\n",
    "from Flight_Price.logging import logger\n"
   ]
  },
  {
   "cell_type": "code",
   "execution_count": 8,
   "metadata": {},
   "outputs": [],
   "source": [
    "import pandas as pd\n",
    "\n",
    "class DataValidation:\n",
    "    def __init__(self, config: DataValidationConfig):\n",
    "        self.config = config\n",
    "\n",
    "    def validate_all_columns(self) -> bool:\n",
    "        try:\n",
    "            validation_status = None\n",
    "\n",
    "            data = pd.read_csv(self.config.unzip_data_dir)\n",
    "            all_cols = list(data.columns)\n",
    "\n",
    "            all_schema = self.config.all_schema.keys()\n",
    "\n",
    "            for col in all_cols:\n",
    "                # Check if column is in the schema\n",
    "                if col not in all_schema:\n",
    "                    validation_status = False\n",
    "                    with open(self.config.STATUS_FILE, 'w') as f:\n",
    "                        f.write(f\"Validation status: {validation_status}\")\n",
    "                else:\n",
    "                    validation_status = True\n",
    "                    with open(self.config.STATUS_FILE, 'w') as f:\n",
    "                        f.write(f\"Validation status: {validation_status}\")\n",
    "\n",
    "                # Layer to validate if the datatype is 'object'\n",
    "                is_object = data[col].dtype == 'object'\n",
    "                with open(self.config.STATUS_FILE, 'a') as f:\n",
    "                    f.write(f\"Column: {col} , Is Object: {is_object}\\n\")\n",
    "\n",
    "            return validation_status\n",
    "\n",
    "        except Exception as e:\n",
    "            raise e\n"
   ]
  },
  {
   "cell_type": "code",
   "execution_count": 9,
   "metadata": {},
   "outputs": [
    {
     "name": "stdout",
     "output_type": "stream",
     "text": [
      "[2024-12-01 23:27:12,364: INFO: common: yaml file: config\\config.yaml loaded successfully]\n",
      "[2024-12-01 23:27:12,367: INFO: common: yaml file: Params.yaml loaded successfully]\n",
      "[2024-12-01 23:27:12,371: INFO: common: yaml file: Schema.yaml loaded successfully]\n",
      "[2024-12-01 23:27:12,374: INFO: common: created directory at: artifacts]\n",
      "ConfigurationManager initialized.\n",
      "[2024-12-01 23:27:12,377: INFO: common: created directory at: artifacts/data_validation]\n",
      "Data Validation Config: DataValidationConfig(root_dir='artifacts/data_validation', STATUS_FILE='artifacts/data_validation/status.txt', unzip_data_dir='artifacts/data_ingestion/Cleaned_Data.csv', all_schema=ConfigBox({'Airline': 'int64', 'Destination': 'int64', 'Duration': 'int64', 'Total_Stops': 'int64', 'Price': 'float64', 'Date_of_Journey_day': 'int64', 'Date_of_Journey_month': 'int64', 'Dep_Time_hour': 'int64', 'Dep_Time_minute': 'int64', 'Arrival_Time_hour': 'int64', 'Arrival_Time_minute': 'int64', 'Duration_hour': 'int64', 'Duration_minutes': 'int64', 'source_Banglore': 'int64', 'source_Kolkata': 'int64', 'source_Delhi': 'int64', 'source_Chennai': 'int64', 'source_Mumbai': 'int64'}))\n",
      "DataValidation initialized.\n",
      "Validation completed successfully.\n"
     ]
    }
   ],
   "source": [
    "try:\n",
    "    config = ConfigurationManager()\n",
    "    print(\"ConfigurationManager initialized.\")\n",
    "    data_validation_config = config.get_data_validation_config()\n",
    "    print(f\"Data Validation Config: {data_validation_config}\")\n",
    "    data_validation = DataValidation(config=data_validation_config)\n",
    "    print(\"DataValidation initialized.\")\n",
    "    data_validation.validate_all_columns()\n",
    "    print(\"Validation completed successfully.\")\n",
    "except Exception as e:\n",
    "    print(f\"An error occurred: {str(e)}\")\n",
    "    raise e\n"
   ]
  },
  {
   "cell_type": "code",
   "execution_count": null,
   "metadata": {},
   "outputs": [],
   "source": []
  },
  {
   "cell_type": "code",
   "execution_count": null,
   "metadata": {},
   "outputs": [],
   "source": []
  }
 ],
 "metadata": {
  "kernelspec": {
   "display_name": "mlflight",
   "language": "python",
   "name": "python3"
  },
  "language_info": {
   "codemirror_mode": {
    "name": "ipython",
    "version": 3
   },
   "file_extension": ".py",
   "mimetype": "text/x-python",
   "name": "python",
   "nbconvert_exporter": "python",
   "pygments_lexer": "ipython3",
   "version": "3.8.20"
  }
 },
 "nbformat": 4,
 "nbformat_minor": 2
}
